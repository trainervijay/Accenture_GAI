{
  "cells": [
    {
      "cell_type": "markdown",
      "id": "5WL5rwU6Esui",
      "metadata": {
        "id": "5WL5rwU6Esui"
      },
      "source": [
        "# **Prompts Template**\n",
        "\n",
        "\n",
        "A prompt template is a structured framework that allows for dynamic generation of prompts based on predefined patterns and placeholders. It typically includes fixed text and variables that can be filled with specific values at runtime. Prompt templates are useful when generating multiple prompts with similar structures but varying content or style.\n",
        "\n",
        "\n"
      ]
    },
    {
      "cell_type": "markdown",
      "id": "_lEJ-VbxsSJx",
      "metadata": {
        "id": "_lEJ-VbxsSJx"
      },
      "source": [
        "Lets see an usecase how you can define a prompt template where you can configure values as placeholders and execute and pass it as a input to LLM\n",
        "\n"
      ]
    },
    {
      "cell_type": "markdown",
      "id": "91c19ded",
      "metadata": {},
      "source": [
        "# Step 1: Install Dependencies"
      ]
    },
    {
      "cell_type": "code",
      "execution_count": 1,
      "id": "u-jFZNEETIKO",
      "metadata": {
        "colab": {
          "base_uri": "https://localhost:8080/"
        },
        "id": "u-jFZNEETIKO",
        "outputId": "4cff341d-59b3-4b32-ae68-6a8e54e053ea"
      },
      "outputs": [
        {
          "name": "stdout",
          "output_type": "stream",
          "text": [
            "Defaulting to user installation because normal site-packages is not writeable\n",
            "Requirement already satisfied: langchain in c:\\users\\vijay\\appdata\\local\\packages\\pythonsoftwarefoundation.python.3.12_qbz5n2kfra8p0\\localcache\\local-packages\\python312\\site-packages (0.3.15)\n",
            "Collecting langchain\n",
            "  Using cached langchain-0.3.26-py3-none-any.whl.metadata (7.8 kB)\n",
            "Requirement already satisfied: langchain_community in c:\\users\\vijay\\appdata\\local\\packages\\pythonsoftwarefoundation.python.3.12_qbz5n2kfra8p0\\localcache\\local-packages\\python312\\site-packages (0.3.15)\n",
            "Collecting langchain_community\n",
            "  Using cached langchain_community-0.3.26-py3-none-any.whl.metadata (2.9 kB)\n",
            "Collecting langchain-openai\n",
            "  Using cached langchain_openai-0.3.27-py3-none-any.whl.metadata (2.3 kB)\n",
            "Requirement already satisfied: langchain-core<1.0.0,>=0.3.66 in c:\\users\\vijay\\appdata\\local\\packages\\pythonsoftwarefoundation.python.3.12_qbz5n2kfra8p0\\localcache\\local-packages\\python312\\site-packages (from langchain) (0.3.66)\n",
            "Collecting langchain-text-splitters<1.0.0,>=0.3.8 (from langchain)\n",
            "  Using cached langchain_text_splitters-0.3.8-py3-none-any.whl.metadata (1.9 kB)\n",
            "Requirement already satisfied: langsmith>=0.1.17 in c:\\users\\vijay\\appdata\\local\\packages\\pythonsoftwarefoundation.python.3.12_qbz5n2kfra8p0\\localcache\\local-packages\\python312\\site-packages (from langchain) (0.4.1)\n",
            "Requirement already satisfied: pydantic<3.0.0,>=2.7.4 in c:\\users\\vijay\\appdata\\local\\packages\\pythonsoftwarefoundation.python.3.12_qbz5n2kfra8p0\\localcache\\local-packages\\python312\\site-packages (from langchain) (2.10.5)\n",
            "Requirement already satisfied: SQLAlchemy<3,>=1.4 in c:\\users\\vijay\\appdata\\local\\packages\\pythonsoftwarefoundation.python.3.12_qbz5n2kfra8p0\\localcache\\local-packages\\python312\\site-packages (from langchain) (2.0.36)\n",
            "Requirement already satisfied: requests<3,>=2 in c:\\users\\vijay\\appdata\\local\\packages\\pythonsoftwarefoundation.python.3.12_qbz5n2kfra8p0\\localcache\\local-packages\\python312\\site-packages (from langchain) (2.32.3)\n",
            "Requirement already satisfied: PyYAML>=5.3 in c:\\users\\vijay\\appdata\\local\\packages\\pythonsoftwarefoundation.python.3.12_qbz5n2kfra8p0\\localcache\\local-packages\\python312\\site-packages (from langchain) (6.0.2)\n",
            "Requirement already satisfied: aiohttp<4.0.0,>=3.8.3 in c:\\users\\vijay\\appdata\\local\\packages\\pythonsoftwarefoundation.python.3.12_qbz5n2kfra8p0\\localcache\\local-packages\\python312\\site-packages (from langchain_community) (3.10.10)\n",
            "Requirement already satisfied: tenacity!=8.4.0,<10,>=8.1.0 in c:\\users\\vijay\\appdata\\local\\packages\\pythonsoftwarefoundation.python.3.12_qbz5n2kfra8p0\\localcache\\local-packages\\python312\\site-packages (from langchain_community) (8.5.0)\n",
            "Requirement already satisfied: dataclasses-json<0.7,>=0.5.7 in c:\\users\\vijay\\appdata\\local\\packages\\pythonsoftwarefoundation.python.3.12_qbz5n2kfra8p0\\localcache\\local-packages\\python312\\site-packages (from langchain_community) (0.6.7)\n",
            "Requirement already satisfied: pydantic-settings<3.0.0,>=2.4.0 in c:\\users\\vijay\\appdata\\local\\packages\\pythonsoftwarefoundation.python.3.12_qbz5n2kfra8p0\\localcache\\local-packages\\python312\\site-packages (from langchain_community) (2.7.1)\n",
            "Requirement already satisfied: httpx-sse<1.0.0,>=0.4.0 in c:\\users\\vijay\\appdata\\local\\packages\\pythonsoftwarefoundation.python.3.12_qbz5n2kfra8p0\\localcache\\local-packages\\python312\\site-packages (from langchain_community) (0.4.0)\n",
            "Requirement already satisfied: numpy>=1.26.2 in c:\\users\\vijay\\appdata\\local\\packages\\pythonsoftwarefoundation.python.3.12_qbz5n2kfra8p0\\localcache\\local-packages\\python312\\site-packages (from langchain_community) (1.26.4)\n",
            "Collecting openai<2.0.0,>=1.86.0 (from langchain-openai)\n",
            "  Using cached openai-1.93.0-py3-none-any.whl.metadata (29 kB)\n",
            "Requirement already satisfied: tiktoken<1,>=0.7 in c:\\users\\vijay\\appdata\\local\\packages\\pythonsoftwarefoundation.python.3.12_qbz5n2kfra8p0\\localcache\\local-packages\\python312\\site-packages (from langchain-openai) (0.7.0)\n",
            "Requirement already satisfied: aiohappyeyeballs>=2.3.0 in c:\\users\\vijay\\appdata\\local\\packages\\pythonsoftwarefoundation.python.3.12_qbz5n2kfra8p0\\localcache\\local-packages\\python312\\site-packages (from aiohttp<4.0.0,>=3.8.3->langchain_community) (2.4.3)\n",
            "Requirement already satisfied: aiosignal>=1.1.2 in c:\\users\\vijay\\appdata\\local\\packages\\pythonsoftwarefoundation.python.3.12_qbz5n2kfra8p0\\localcache\\local-packages\\python312\\site-packages (from aiohttp<4.0.0,>=3.8.3->langchain_community) (1.3.1)\n",
            "Requirement already satisfied: attrs>=17.3.0 in c:\\users\\vijay\\appdata\\local\\packages\\pythonsoftwarefoundation.python.3.12_qbz5n2kfra8p0\\localcache\\local-packages\\python312\\site-packages (from aiohttp<4.0.0,>=3.8.3->langchain_community) (24.2.0)\n",
            "Requirement already satisfied: frozenlist>=1.1.1 in c:\\users\\vijay\\appdata\\local\\packages\\pythonsoftwarefoundation.python.3.12_qbz5n2kfra8p0\\localcache\\local-packages\\python312\\site-packages (from aiohttp<4.0.0,>=3.8.3->langchain_community) (1.4.1)\n",
            "Requirement already satisfied: multidict<7.0,>=4.5 in c:\\users\\vijay\\appdata\\local\\packages\\pythonsoftwarefoundation.python.3.12_qbz5n2kfra8p0\\localcache\\local-packages\\python312\\site-packages (from aiohttp<4.0.0,>=3.8.3->langchain_community) (6.1.0)\n",
            "Requirement already satisfied: yarl<2.0,>=1.12.0 in c:\\users\\vijay\\appdata\\local\\packages\\pythonsoftwarefoundation.python.3.12_qbz5n2kfra8p0\\localcache\\local-packages\\python312\\site-packages (from aiohttp<4.0.0,>=3.8.3->langchain_community) (1.16.0)\n",
            "Requirement already satisfied: marshmallow<4.0.0,>=3.18.0 in c:\\users\\vijay\\appdata\\local\\packages\\pythonsoftwarefoundation.python.3.12_qbz5n2kfra8p0\\localcache\\local-packages\\python312\\site-packages (from dataclasses-json<0.7,>=0.5.7->langchain_community) (3.23.0)\n",
            "Requirement already satisfied: typing-inspect<1,>=0.4.0 in c:\\users\\vijay\\appdata\\local\\packages\\pythonsoftwarefoundation.python.3.12_qbz5n2kfra8p0\\localcache\\local-packages\\python312\\site-packages (from dataclasses-json<0.7,>=0.5.7->langchain_community) (0.9.0)\n",
            "Requirement already satisfied: jsonpatch<2.0,>=1.33 in c:\\users\\vijay\\appdata\\local\\packages\\pythonsoftwarefoundation.python.3.12_qbz5n2kfra8p0\\localcache\\local-packages\\python312\\site-packages (from langchain-core<1.0.0,>=0.3.66->langchain) (1.33)\n",
            "Requirement already satisfied: packaging<25,>=23.2 in c:\\users\\vijay\\appdata\\local\\packages\\pythonsoftwarefoundation.python.3.12_qbz5n2kfra8p0\\localcache\\local-packages\\python312\\site-packages (from langchain-core<1.0.0,>=0.3.66->langchain) (24.1)\n",
            "Requirement already satisfied: typing-extensions>=4.7 in c:\\users\\vijay\\appdata\\local\\packages\\pythonsoftwarefoundation.python.3.12_qbz5n2kfra8p0\\localcache\\local-packages\\python312\\site-packages (from langchain-core<1.0.0,>=0.3.66->langchain) (4.12.2)\n",
            "Requirement already satisfied: httpx<1,>=0.23.0 in c:\\users\\vijay\\appdata\\local\\packages\\pythonsoftwarefoundation.python.3.12_qbz5n2kfra8p0\\localcache\\local-packages\\python312\\site-packages (from langsmith>=0.1.17->langchain) (0.27.2)\n",
            "Requirement already satisfied: orjson<4.0.0,>=3.9.14 in c:\\users\\vijay\\appdata\\local\\packages\\pythonsoftwarefoundation.python.3.12_qbz5n2kfra8p0\\localcache\\local-packages\\python312\\site-packages (from langsmith>=0.1.17->langchain) (3.10.9)\n",
            "Requirement already satisfied: requests-toolbelt<2.0.0,>=1.0.0 in c:\\users\\vijay\\appdata\\local\\packages\\pythonsoftwarefoundation.python.3.12_qbz5n2kfra8p0\\localcache\\local-packages\\python312\\site-packages (from langsmith>=0.1.17->langchain) (1.0.0)\n",
            "Requirement already satisfied: zstandard<0.24.0,>=0.23.0 in c:\\users\\vijay\\appdata\\local\\packages\\pythonsoftwarefoundation.python.3.12_qbz5n2kfra8p0\\localcache\\local-packages\\python312\\site-packages (from langsmith>=0.1.17->langchain) (0.23.0)\n",
            "Requirement already satisfied: anyio<5,>=3.5.0 in c:\\users\\vijay\\appdata\\local\\packages\\pythonsoftwarefoundation.python.3.12_qbz5n2kfra8p0\\localcache\\local-packages\\python312\\site-packages (from openai<2.0.0,>=1.86.0->langchain-openai) (4.6.2.post1)\n",
            "Requirement already satisfied: distro<2,>=1.7.0 in c:\\users\\vijay\\appdata\\local\\packages\\pythonsoftwarefoundation.python.3.12_qbz5n2kfra8p0\\localcache\\local-packages\\python312\\site-packages (from openai<2.0.0,>=1.86.0->langchain-openai) (1.9.0)\n",
            "Requirement already satisfied: jiter<1,>=0.4.0 in c:\\users\\vijay\\appdata\\local\\packages\\pythonsoftwarefoundation.python.3.12_qbz5n2kfra8p0\\localcache\\local-packages\\python312\\site-packages (from openai<2.0.0,>=1.86.0->langchain-openai) (0.8.2)\n",
            "Requirement already satisfied: sniffio in c:\\users\\vijay\\appdata\\local\\packages\\pythonsoftwarefoundation.python.3.12_qbz5n2kfra8p0\\localcache\\local-packages\\python312\\site-packages (from openai<2.0.0,>=1.86.0->langchain-openai) (1.3.1)\n",
            "Requirement already satisfied: tqdm>4 in c:\\users\\vijay\\appdata\\local\\packages\\pythonsoftwarefoundation.python.3.12_qbz5n2kfra8p0\\localcache\\local-packages\\python312\\site-packages (from openai<2.0.0,>=1.86.0->langchain-openai) (4.66.5)\n",
            "Requirement already satisfied: annotated-types>=0.6.0 in c:\\users\\vijay\\appdata\\local\\packages\\pythonsoftwarefoundation.python.3.12_qbz5n2kfra8p0\\localcache\\local-packages\\python312\\site-packages (from pydantic<3.0.0,>=2.7.4->langchain) (0.7.0)\n",
            "Requirement already satisfied: pydantic-core==2.27.2 in c:\\users\\vijay\\appdata\\local\\packages\\pythonsoftwarefoundation.python.3.12_qbz5n2kfra8p0\\localcache\\local-packages\\python312\\site-packages (from pydantic<3.0.0,>=2.7.4->langchain) (2.27.2)\n",
            "Requirement already satisfied: python-dotenv>=0.21.0 in c:\\users\\vijay\\appdata\\local\\packages\\pythonsoftwarefoundation.python.3.12_qbz5n2kfra8p0\\localcache\\local-packages\\python312\\site-packages (from pydantic-settings<3.0.0,>=2.4.0->langchain_community) (1.0.0)\n",
            "Requirement already satisfied: charset-normalizer<4,>=2 in c:\\users\\vijay\\appdata\\local\\packages\\pythonsoftwarefoundation.python.3.12_qbz5n2kfra8p0\\localcache\\local-packages\\python312\\site-packages (from requests<3,>=2->langchain) (3.4.0)\n",
            "Requirement already satisfied: idna<4,>=2.5 in c:\\users\\vijay\\appdata\\local\\packages\\pythonsoftwarefoundation.python.3.12_qbz5n2kfra8p0\\localcache\\local-packages\\python312\\site-packages (from requests<3,>=2->langchain) (3.10)\n",
            "Requirement already satisfied: urllib3<3,>=1.21.1 in c:\\users\\vijay\\appdata\\local\\packages\\pythonsoftwarefoundation.python.3.12_qbz5n2kfra8p0\\localcache\\local-packages\\python312\\site-packages (from requests<3,>=2->langchain) (2.2.3)\n",
            "Requirement already satisfied: certifi>=2017.4.17 in c:\\users\\vijay\\appdata\\local\\packages\\pythonsoftwarefoundation.python.3.12_qbz5n2kfra8p0\\localcache\\local-packages\\python312\\site-packages (from requests<3,>=2->langchain) (2024.8.30)\n",
            "Requirement already satisfied: greenlet!=0.4.17 in c:\\users\\vijay\\appdata\\local\\packages\\pythonsoftwarefoundation.python.3.12_qbz5n2kfra8p0\\localcache\\local-packages\\python312\\site-packages (from SQLAlchemy<3,>=1.4->langchain) (3.1.1)\n",
            "Requirement already satisfied: regex>=2022.1.18 in c:\\users\\vijay\\appdata\\local\\packages\\pythonsoftwarefoundation.python.3.12_qbz5n2kfra8p0\\localcache\\local-packages\\python312\\site-packages (from tiktoken<1,>=0.7->langchain-openai) (2024.9.11)\n",
            "Requirement already satisfied: httpcore==1.* in c:\\users\\vijay\\appdata\\local\\packages\\pythonsoftwarefoundation.python.3.12_qbz5n2kfra8p0\\localcache\\local-packages\\python312\\site-packages (from httpx<1,>=0.23.0->langsmith>=0.1.17->langchain) (1.0.6)\n",
            "Requirement already satisfied: h11<0.15,>=0.13 in c:\\users\\vijay\\appdata\\local\\packages\\pythonsoftwarefoundation.python.3.12_qbz5n2kfra8p0\\localcache\\local-packages\\python312\\site-packages (from httpcore==1.*->httpx<1,>=0.23.0->langsmith>=0.1.17->langchain) (0.14.0)\n",
            "Requirement already satisfied: jsonpointer>=1.9 in c:\\users\\vijay\\appdata\\local\\packages\\pythonsoftwarefoundation.python.3.12_qbz5n2kfra8p0\\localcache\\local-packages\\python312\\site-packages (from jsonpatch<2.0,>=1.33->langchain-core<1.0.0,>=0.3.66->langchain) (3.0.0)\n",
            "Requirement already satisfied: colorama in c:\\users\\vijay\\appdata\\local\\packages\\pythonsoftwarefoundation.python.3.12_qbz5n2kfra8p0\\localcache\\local-packages\\python312\\site-packages (from tqdm>4->openai<2.0.0,>=1.86.0->langchain-openai) (0.4.6)\n",
            "Requirement already satisfied: mypy-extensions>=0.3.0 in c:\\users\\vijay\\appdata\\local\\packages\\pythonsoftwarefoundation.python.3.12_qbz5n2kfra8p0\\localcache\\local-packages\\python312\\site-packages (from typing-inspect<1,>=0.4.0->dataclasses-json<0.7,>=0.5.7->langchain_community) (1.0.0)\n",
            "Requirement already satisfied: propcache>=0.2.0 in c:\\users\\vijay\\appdata\\local\\packages\\pythonsoftwarefoundation.python.3.12_qbz5n2kfra8p0\\localcache\\local-packages\\python312\\site-packages (from yarl<2.0,>=1.12.0->aiohttp<4.0.0,>=3.8.3->langchain_community) (0.2.0)\n",
            "Using cached langchain-0.3.26-py3-none-any.whl (1.0 MB)\n",
            "Using cached langchain_community-0.3.26-py3-none-any.whl (2.5 MB)\n",
            "Using cached langchain_openai-0.3.27-py3-none-any.whl (70 kB)\n",
            "Using cached langchain_text_splitters-0.3.8-py3-none-any.whl (32 kB)\n",
            "Using cached openai-1.93.0-py3-none-any.whl (755 kB)\n",
            "Installing collected packages: openai, langchain-text-splitters, langchain-openai, langchain, langchain_community\n",
            "  Attempting uninstall: openai\n",
            "    Found existing installation: openai 1.59.8\n",
            "    Uninstalling openai-1.59.8:\n",
            "      Successfully uninstalled openai-1.59.8\n",
            "  Attempting uninstall: langchain-text-splitters\n",
            "    Found existing installation: langchain-text-splitters 0.3.5\n",
            "    Uninstalling langchain-text-splitters-0.3.5:\n",
            "      Successfully uninstalled langchain-text-splitters-0.3.5\n",
            "  Attempting uninstall: langchain\n",
            "    Found existing installation: langchain 0.3.15\n",
            "    Uninstalling langchain-0.3.15:\n",
            "      Successfully uninstalled langchain-0.3.15\n",
            "  Attempting uninstall: langchain_community\n",
            "    Found existing installation: langchain-community 0.3.15\n",
            "    Uninstalling langchain-community-0.3.15:\n",
            "      Successfully uninstalled langchain-community-0.3.15\n",
            "Successfully installed langchain-0.3.26 langchain-openai-0.3.27 langchain-text-splitters-0.3.8 langchain_community-0.3.26 openai-1.93.0\n"
          ]
        },
        {
          "name": "stderr",
          "output_type": "stream",
          "text": [
            "\n",
            "[notice] A new release of pip is available: 25.0 -> 25.1.1\n",
            "[notice] To update, run: C:\\Users\\vijay\\AppData\\Local\\Microsoft\\WindowsApps\\PythonSoftwareFoundation.Python.3.12_qbz5n2kfra8p0\\python.exe -m pip install --upgrade pip\n"
          ]
        }
      ],
      "source": [
        "!pip install --upgrade langchain langchain_community langchain-openai"
      ]
    },
    {
      "cell_type": "markdown",
      "id": "27f95bd2",
      "metadata": {},
      "source": [
        "# Step 2: Configure the environment"
      ]
    },
    {
      "cell_type": "code",
      "execution_count": 3,
      "id": "d6e37738",
      "metadata": {
        "id": "d6e37738"
      },
      "outputs": [],
      "source": [
        "import os\n",
        "import IPython\n",
        "os.environ[\"OPENAI_API_VERSION\"] = \"2024-12-01-preview\"\n",
        "os.environ[\"AZURE_OPENAI_ENDPOINT\"] = \"https://azure-foundryai.openai.azure.com/\"\n",
        "os.environ[\"AZURE_OPENAI_API_KEY\"] = \"8XKOy3RpaT5ptQrinrgJ0YdybpUeT0p1IeajFDU4mzDFxzjdQlu4JQQJ99BFACYeBjFXJ3w3AAAAACOGZxka\""
      ]
    },
    {
      "cell_type": "markdown",
      "id": "ce9a5467",
      "metadata": {},
      "source": [
        "# Step 3: Setup LLM"
      ]
    },
    {
      "cell_type": "code",
      "execution_count": 4,
      "id": "eb6c7d56",
      "metadata": {
        "id": "eb6c7d56"
      },
      "outputs": [],
      "source": [
        "from langchain_openai import AzureChatOpenAI\n",
        "\n",
        "llm = AzureChatOpenAI(\n",
        "    deployment_name=\"gpt-4o\",\n",
        "    )"
      ]
    },
    {
      "cell_type": "markdown",
      "id": "d607a0b2",
      "metadata": {},
      "source": [
        "# Step 4: Define Prompt Template"
      ]
    },
    {
      "cell_type": "code",
      "execution_count": 5,
      "id": "FFxW9RQfFClE",
      "metadata": {
        "id": "FFxW9RQfFClE"
      },
      "outputs": [],
      "source": [
        "prompt = \"\"\"\n",
        "Today is Monday, tomorrow is Wednesday.\n",
        "\n",
        "What is wrong with that statement?\n",
        "\"\"\"\n"
      ]
    },
    {
      "cell_type": "markdown",
      "id": "382ad50d",
      "metadata": {},
      "source": [
        "# Step 5: Execute Prompt Template"
      ]
    },
    {
      "cell_type": "code",
      "execution_count": 6,
      "id": "eOqmPs0QkNct",
      "metadata": {
        "colab": {
          "base_uri": "https://localhost:8080/",
          "height": 53
        },
        "id": "eOqmPs0QkNct",
        "outputId": "70e3813d-f738-4ecb-9e61-98c3ad378c1f"
      },
      "outputs": [
        {
          "data": {
            "text/plain": [
              "'The statement \"Today is Monday, tomorrow is Wednesday\" is incorrect because **tomorrow** refers to the day immediately following the current day. If today is Monday, the day after would be **Tuesday**, not Wednesday. \\n\\nCorrect sequence is:\\n- Today: Monday\\n- Tomorrow: Tuesday\\n- The day after tomorrow: Wednesday\\n\\nSo the mistake in the statement is skipping **Tuesday**, which comes between Monday and Wednesday.'"
            ]
          },
          "execution_count": 6,
          "metadata": {},
          "output_type": "execute_result"
        }
      ],
      "source": [
        "response = llm.invoke(prompt)\n",
        "response.content"
      ]
    },
    {
      "cell_type": "markdown",
      "id": "oufRk-hOEpyK",
      "metadata": {
        "id": "oufRk-hOEpyK"
      },
      "source": [
        "## **Prompt template Variations**\n",
        "\n",
        "An object that helps create prompts based on a combination of user input, other non-static information and a fixed template string.\n",
        "\n",
        "* **Template String**: A template string is defined, which includes placeholders for `style` and `text`. This template will be used to create dynamic prompts.\n",
        "* **ChatPromptTemplate**: The ChatPromptTemplate class from LangChain is used to create a prompt template from the defined string.\n",
        "* **Input Variables**: The input_variables attribute shows the placeholders that need to be filled when formatting the template."
      ]
    },
    {
      "cell_type": "code",
      "execution_count": 7,
      "id": "84ad2b93",
      "metadata": {
        "id": "84ad2b93"
      },
      "outputs": [],
      "source": [
        "template_string = \"\"\"Translate the text \\\n",
        "that is delimited by triple backticks \\\n",
        "into a style that is {style}. \\\n",
        "text: ```{text}```\n",
        "\"\"\""
      ]
    },
    {
      "cell_type": "code",
      "execution_count": 8,
      "id": "c56d37f3",
      "metadata": {
        "id": "c56d37f3"
      },
      "outputs": [],
      "source": [
        "# prompt template\n",
        "from langchain_core.prompts import ChatPromptTemplate\n",
        "\n",
        "prompt_template = ChatPromptTemplate.from_template(template_string)"
      ]
    },
    {
      "cell_type": "code",
      "execution_count": 9,
      "id": "014cd73e",
      "metadata": {
        "colab": {
          "base_uri": "https://localhost:8080/"
        },
        "id": "014cd73e",
        "outputId": "2eb795a2-7b01-4d99-b72e-34e301580d56"
      },
      "outputs": [
        {
          "data": {
            "text/plain": [
              "PromptTemplate(input_variables=['style', 'text'], input_types={}, partial_variables={}, template='Translate the text that is delimited by triple backticks into a style that is {style}. text: ```{text}```\\n')"
            ]
          },
          "execution_count": 9,
          "metadata": {},
          "output_type": "execute_result"
        }
      ],
      "source": [
        "prompt_template.messages[0].prompt"
      ]
    },
    {
      "cell_type": "code",
      "execution_count": 10,
      "id": "yBRDvJFgVelm",
      "metadata": {
        "colab": {
          "base_uri": "https://localhost:8080/"
        },
        "id": "yBRDvJFgVelm",
        "outputId": "94fe6d3e-ae45-4e48-86af-06f4014f6f5c"
      },
      "outputs": [
        {
          "data": {
            "text/plain": [
              "['style', 'text']"
            ]
          },
          "execution_count": 10,
          "metadata": {},
          "output_type": "execute_result"
        }
      ],
      "source": [
        "prompt_template.messages[0].prompt.input_variables"
      ]
    },
    {
      "cell_type": "markdown",
      "id": "2F4JIbzmHGuE",
      "metadata": {
        "id": "2F4JIbzmHGuE"
      },
      "source": [
        "## **Case Study 2: Formatting an Employee's Email**\n",
        "\n",
        "* **Employee Style**: A style specification for translating text is defined (British English in a calm and respectful tone).\n",
        "* **Employee Email**: A sample French email requesting vacation is provided.\n",
        "* **Format Messages**: The format_messages method of the prompt template is used to fill in the placeholders with the specified style and text.\n",
        "* Model Response: The formatted messages are sent to the language model for processing, and the response is printed."
      ]
    },
    {
      "cell_type": "code",
      "execution_count": 11,
      "id": "c2af340f",
      "metadata": {
        "id": "c2af340f"
      },
      "outputs": [],
      "source": [
        "employee_style = \"\"\"British English \\\n",
        "in a calm and respectful tone\n",
        "\"\"\""
      ]
    },
    {
      "cell_type": "code",
      "execution_count": 13,
      "id": "444891fb",
      "metadata": {
        "id": "444891fb"
      },
      "outputs": [],
      "source": [
        "# french language letter for vacation request\n",
        "employee_email = \"\"\"\n",
        "Objet : Demande de Congé\n",
        "\n",
        "Cher [Nom du Responsable],\n",
        "\n",
        "Je m'appelle John et je travaille au sein de la société XYZ.\n",
        "J'aimerais solliciter une demande de congé pour partir en vacances.\n",
        "Serait-il possible de discuter des dates qui conviendraient le mieux pour l'équipe et l'entreprise?\n",
        "\n",
        "Je vous remercie par avance pour votre compréhension et j'attends votre retour.\n",
        "\n",
        "Cordialement,\n",
        "John\n",
        "\n",
        "\"\"\""
      ]
    },
    {
      "cell_type": "code",
      "execution_count": 14,
      "id": "f36b2801",
      "metadata": {
        "id": "f36b2801"
      },
      "outputs": [],
      "source": [
        "employee_messages = prompt_template.format_messages(\n",
        "                    style=employee_style,\n",
        "                    text=employee_email)"
      ]
    },
    {
      "cell_type": "code",
      "execution_count": 15,
      "id": "a4dc09e3",
      "metadata": {
        "id": "a4dc09e3"
      },
      "outputs": [
        {
          "name": "stderr",
          "output_type": "stream",
          "text": [
            "C:\\Users\\vijay\\AppData\\Local\\Temp\\ipykernel_5540\\4120886785.py:1: LangChainDeprecationWarning: The method `BaseChatModel.__call__` was deprecated in langchain-core 0.1.7 and will be removed in 1.0. Use :meth:`~invoke` instead.\n",
            "  employee_response = llm(employee_messages)\n"
          ]
        }
      ],
      "source": [
        "employee_response = llm(employee_messages)"
      ]
    },
    {
      "cell_type": "code",
      "execution_count": 16,
      "id": "c93c6be1",
      "metadata": {
        "colab": {
          "base_uri": "https://localhost:8080/",
          "height": 70
        },
        "collapsed": true,
        "id": "c93c6be1",
        "outputId": "d932cc29-1397-4429-dc6b-9cee4ba63be6"
      },
      "outputs": [
        {
          "data": {
            "text/plain": [
              "'Subject: Holiday Request  \\n\\nDear [Name of Manager],  \\n\\nI hope this message finds you well. My name is John and I am part of the team at XYZ.  \\n\\nI would like to kindly request leave to take some time off for a holiday. If possible, I would appreciate the opportunity to discuss dates that would be most suitable for both the team and the company.  \\n\\nThank you in advance for your understanding, and I look forward to hearing from you.  \\n\\nYours sincerely,  \\nJohn  '"
            ]
          },
          "execution_count": 16,
          "metadata": {},
          "output_type": "execute_result"
        }
      ],
      "source": [
        "employee_response.content"
      ]
    },
    {
      "cell_type": "markdown",
      "id": "NMdWIvLXHhcM",
      "metadata": {
        "id": "NMdWIvLXHhcM"
      },
      "source": [
        "## **Formatting the Manager's Reply**\n",
        "\n",
        "* **Manager Reply**: A sample reply from a manager is provided in English.\n",
        "* **Manager Style**: The style for translating the manager's reply is defined (a polite tone that speaks in French).\n",
        "* **Format Messages**: The prompt template is used again to format the manager's reply with the specified style.\n",
        "* **Model Response**: The formatted messages are sent to the model, and the response is printed."
      ]
    },
    {
      "cell_type": "code",
      "execution_count": 17,
      "id": "f65a0f80",
      "metadata": {
        "id": "f65a0f80"
      },
      "outputs": [],
      "source": [
        "manager_reply = \"\"\"\n",
        "Subject: Re: Demande de Congé\n",
        "\n",
        "Hi John,\n",
        "\n",
        "Thank you for reaching out. I've reviewed your request for vacation leave.\\\n",
        "Please provide the specific dates you'd like to take off, so we can ensure proper coverage during your absence.\n",
        "\n",
        "Looking forward to your response.\n",
        "\n",
        "Best regards,\n",
        "[Manager's Name]\n",
        "\"\"\""
      ]
    },
    {
      "cell_type": "code",
      "execution_count": 18,
      "id": "516c5695",
      "metadata": {
        "id": "516c5695"
      },
      "outputs": [],
      "source": [
        "manager_style_pirate = \"\"\"\\\n",
        "a polite tone \\\n",
        "that speaks in French\\\n",
        "\"\"\""
      ]
    },
    {
      "cell_type": "code",
      "execution_count": 19,
      "id": "9befdb87",
      "metadata": {
        "id": "9befdb87"
      },
      "outputs": [],
      "source": [
        "manager_messages = prompt_template.format_messages(\n",
        "    style=manager_style_pirate,\n",
        "    text=manager_reply)"
      ]
    },
    {
      "cell_type": "code",
      "execution_count": 20,
      "id": "fb694b8f",
      "metadata": {
        "id": "fb694b8f"
      },
      "outputs": [],
      "source": [
        "manager_response = llm.invoke(manager_messages)"
      ]
    },
    {
      "cell_type": "code",
      "execution_count": 21,
      "id": "967aede3",
      "metadata": {
        "colab": {
          "base_uri": "https://localhost:8080/",
          "height": 70
        },
        "id": "967aede3",
        "outputId": "ddcf8153-4b2e-493d-ae05-98dd9fed9144",
        "scrolled": true
      },
      "outputs": [
        {
          "data": {
            "text/plain": [
              "\"Objet : Réponse à votre demande de congé  \\n\\nBonjour John,  \\n\\nJe vous remercie d'avoir pris contact. Après avoir examiné votre demande de congé, je vous serais reconnaissant(e) de bien vouloir me communiquer les dates précises durant lesquelles vous souhaitez vous absenter. Cela nous permettra de garantir une bonne organisation pendant votre absence.  \\n\\nDans l’attente de votre retour,  \\n\\nBien cordialement,  \\n[Nom du/du la Responsable]  \""
            ]
          },
          "execution_count": 21,
          "metadata": {},
          "output_type": "execute_result"
        }
      ],
      "source": [
        "manager_response.content"
      ]
    },
    {
      "cell_type": "markdown",
      "id": "UOHUsUjvJ_Xm",
      "metadata": {
        "id": "UOHUsUjvJ_Xm"
      },
      "source": [
        "# **Let's Do an Activity**\n",
        "\n",
        "## **Objective**\n",
        "\n",
        "Practice creating and utilizing a prompt template to generate customized prompts for a language model.\n",
        "\n",
        "## **Steps**\n",
        "\n",
        "* Define a Template String\n",
        "* Instantiate a Prompt Template\n",
        "* Prepare Variables\n",
        "* Format Messages\n",
        "* Interact with a Language Model"
      ]
    }
  ],
  "metadata": {
    "colab": {
      "provenance": []
    },
    "kernelspec": {
      "display_name": "Python 3",
      "language": "python",
      "name": "python3"
    },
    "language_info": {
      "codemirror_mode": {
        "name": "ipython",
        "version": 3
      },
      "file_extension": ".py",
      "mimetype": "text/x-python",
      "name": "python",
      "nbconvert_exporter": "python",
      "pygments_lexer": "ipython3",
      "version": "3.12.10"
    }
  },
  "nbformat": 4,
  "nbformat_minor": 5
}
